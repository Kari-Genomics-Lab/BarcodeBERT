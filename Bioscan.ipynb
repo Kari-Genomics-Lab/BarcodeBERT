{
  "cells": [
    {
      "cell_type": "markdown",
      "metadata": {
        "id": "EN3EsTEzIUcZ"
      },
      "source": [
        "# requirements"
      ]
    },
    {
      "cell_type": "code",
      "execution_count": null,
      "metadata": {
        "id": "AueLRah0IT-M"
      },
      "outputs": [],
      "source": [
        "import pandas as pd\n",
        "import os\n",
        "import scipy.io as sio\n",
        "import numpy as np\n",
        "import random\n",
        "from random import randrange, shuffle, random, randint\n",
        "import re\n",
        "\n",
        "import math\n",
        "import torch\n",
        "\n",
        "from torch.utils.data import Dataset, DataLoader\n",
        "import torch.nn as nn\n",
        "import torch.optim as optim\n",
        "\n",
        "import pickle\n",
        "import matplotlib.pyplot as plt\n",
        "\n",
        "from pathlib import Path\n",
        "\n",
        "from tqdm.auto import tqdm\n",
        "\n",
        "from datetime import datetime"
      ]
    },
    {
      "cell_type": "markdown",
      "metadata": {
        "id": "5qFtZUbI0NVA"
      },
      "source": [
        "# Config Hyperparameters"
      ]
    },
    {
      "cell_type": "code",
      "execution_count": null,
      "metadata": {
        "colab": {
          "base_uri": "https://localhost:8080/"
        },
        "id": "BKfdWluKJrMs",
        "outputId": "d84252c9-bef1-4805-84e5-e5312e14f592"
      },
      "outputs": [
        {
          "output_type": "stream",
          "name": "stdout",
          "text": [
            "Mounted at /content/drive\n"
          ]
        }
      ],
      "source": [
        "from google.colab import drive\n",
        "drive.mount('/content/drive')"
      ]
    },
    {
      "cell_type": "code",
      "execution_count": null,
      "metadata": {
        "id": "NQBtv4hBP7cc"
      },
      "outputs": [],
      "source": [
        "device = torch.device('cuda' if torch.cuda.is_available() else 'cpu')"
      ]
    },
    {
      "cell_type": "code",
      "execution_count": null,
      "metadata": {
        "id": "hEshydwlBusq"
      },
      "outputs": [],
      "source": [
        "# File path of the input [change this according to your bioscan folder path]\n",
        "bioscan_folder_path = \"/content/drive/MyDrive/BIOSCAN\"\n",
        "  #\"/content/drive/MyDrive/University_of_Waterloo/BIOSCAN\" #Monireh BIOSCAN path\n",
        "  #\"/content/drive/MyDrive/BIOSCAN\" # Niousha's path\n",
        "\n",
        "input_path = f\"{bioscan_folder_path}/small_training.tsv\"\n",
        "# input_path = f\"{bioscan_folder_path}/medium_training.tsv\"\n",
        "# input_path = f\"{bioscan_folder_path}/full_training.tsv\"\n",
        "\n",
        "\n",
        "# nameOfDataset_epochs_maxLength\n",
        "experiments_name = \"small_new_dataloader\" #\"medium_dataset_1000_512\"\n",
        "\n",
        "\n",
        "config = {\n",
        "    \"d_model\": 768,\n",
        "    \"n_heads\": 12,\n",
        "    \"n_layers\": 12, \n",
        "    \"max_len\" : 512\n",
        "\n",
        "}\n",
        "\n",
        "saving_path = f\"{bioscan_folder_path}/model_checkpoints/{experiments_name}\"\n",
        "Path(saving_path).mkdir(parents=True, exist_ok=True)\n",
        "\n",
        "epoch_loss_list = []\n",
        "training_epoch = 1000\n",
        "continue_epoch = 0\n",
        "\n",
        "\n"
      ]
    },
    {
      "cell_type": "markdown",
      "metadata": {
        "id": "1lURUvE3HuCX"
      },
      "source": [
        "# Load data and tokenize"
      ]
    },
    {
      "cell_type": "code",
      "execution_count": null,
      "metadata": {
        "id": "7F8QcTd5HV6a"
      },
      "outputs": [],
      "source": [
        "class PabloDNADataset:\n",
        "    def __init__(self, file_path):\n",
        "        self.df = pd.read_csv(file_path, sep=\"\\t\", encoding=\"unicode_escape\")\n",
        "\n",
        "    def clean_nan(self, col_names, replace_orig=False):\n",
        "        clean_df = self.df.dropna(subset=col_names)\n",
        "        clean_df = clean_df.reset_index(drop=True)\n",
        "        if replace_orig:\n",
        "            self.df = clean_df\n",
        "        return clean_df\n",
        "    \n",
        "    def change_RXY2N(self, col_names, replace_orig=False):\n",
        "      full_pattern = re.compile('[^ACGTN\\-]') \n",
        "      self.df[col_names] = self.df[col_names].apply(lambda x: re.sub(full_pattern, 'N', x))\n",
        "      # if replace_orig:\n",
        "      #   self.df[col_names] = clean_nucleotides\n",
        "      # return clean_str_df\n",
        "\n",
        "\n",
        "    def generate_mini_sample(self, dataframe=None, bin_count=20, output_path=\"mini_sample.tsv\"):\n",
        "        if dataframe is None:\n",
        "            dataframe = self.df\n",
        "        bins = list(dataframe['bin_uri'].unique())\n",
        "        rd1 = random.sample(range(0, len(bins)), bin_count)\n",
        "        bins = [bins[i] for i in rd1]\n",
        "        mini_df = dataframe.loc[dataframe['bin_uri'].isin(bins)]\n",
        "        mini_df = mini_df.reset_index(drop=True)\n",
        "        # mini_df = dataframe.iloc[0:sample_count]\n",
        "        # mini_df = dataframe.take(np.random.permutation(len(dataframe))[:sample_count])\n",
        "        mini_df.to_csv(output_path, sep=\"\\t\")\n",
        "\n",
        "    def get_info(self, dataframe=None):\n",
        "        if dataframe is None:\n",
        "            dataframe = self.df\n",
        "        print(\"Total data: \", len(dataframe))\n",
        "        print(\"Number of bin clusters: \", len(dataframe['bin_uri'].unique()))\n",
        "\n"
      ]
    },
    {
      "cell_type": "code",
      "execution_count": null,
      "metadata": {
        "id": "WuvfJQ4MINGk"
      },
      "outputs": [],
      "source": [
        "def tokenizer(dna_sentence, k_mer_dict, k_mer_length, stride=1):\n",
        "    tokens = []\n",
        "    for i in range(0, len(dna_sentence) - k_mer_length + 1, stride):\n",
        "        k_mer = dna_sentence[i:i + k_mer_length]\n",
        "        tokens.append(k_mer_dict[k_mer])\n",
        "    return tokens\n",
        "\n",
        "\n",
        "\n",
        "class SampleDNAData(Dataset):\n",
        "    \"\"\"Barcode Dataset\"\"\"\n",
        "    @staticmethod\n",
        "    def get_all_kmers(k_mer_length, alphabet=None) -> list:\n",
        "        \"\"\"\n",
        "        :rtype: object\n",
        "        \"\"\"\n",
        "\n",
        "        def base_convert(num, base, length):\n",
        "            result = []\n",
        "            while num > 0:\n",
        "                result.insert(0, num % base)\n",
        "                num = num // base\n",
        "            while len(result) < length:\n",
        "                result.insert(0, 0)\n",
        "            return result\n",
        "\n",
        "        if alphabet is None:\n",
        "            alphabet = [\"A\", \"C\", \"G\", \"T\", \"-\", \"N\"]\n",
        "        k_mer_counts = len(alphabet) ** k_mer_length\n",
        "        all_k_mers_list = []\n",
        "        for i in range(k_mer_counts):\n",
        "            code = base_convert(num=i, base=len(alphabet), length=k_mer_length)\n",
        "            k_mer = \"\"\n",
        "            for j in range(k_mer_length):\n",
        "                k_mer += alphabet[code[j]]\n",
        "            all_k_mers_list.append(k_mer)\n",
        "\n",
        "        return all_k_mers_list\n",
        "\n",
        "    def _generate_processed_data(self, dna_a, dna_b, label):\n",
        "        rand_len = randrange(128, 256)\n",
        "\n",
        "        dna_a = dna_a[0:len(dna_a) // 2][0:rand_len]\n",
        "        dna_b = dna_b[len(dna_b) // 2:][0:rand_len]\n",
        "        tokens_a = tokenizer(dna_a, self.word_dict, self.k_mer, stride=1)\n",
        "        tokens_b = tokenizer(dna_b, self.word_dict, self.k_mer, stride=1)\n",
        "\n",
        "        input_ids = [self.word_dict['[CLS]']] + tokens_a + [self.word_dict['[SEP]']] + tokens_b + [\n",
        "            self.word_dict['[SEP]']]\n",
        "        segment_ids = [0] * (1 + len(tokens_a) + 1) + [1] * (len(tokens_b) + 1)\n",
        "\n",
        "        # MASK LM  (15 % of tokens in one sentence)\n",
        "        n_pred = min(self.max_mask_count, max(1, int(round(len(input_ids) * 0.15)))) // self.k_mer\n",
        "\n",
        "        cand_masked_pos = [i for i, token in enumerate(input_ids)\n",
        "                           if token != self.word_dict['[CLS]'] and token != self.word_dict['[SEP]']]\n",
        "\n",
        "        # remove N and gaps from cand_masked_pos\n",
        "        cand_masked_pos_copy = cand_masked_pos.copy()\n",
        "        for position in cand_masked_pos_copy:\n",
        "            remove_flag = False\n",
        "            for s in range(self.k_mer):\n",
        "                if position + s < len(input_ids):\n",
        "                    key = self.number_dict[input_ids[position + s]]\n",
        "                    if (\"N\" in key) or (\"-\" in key):\n",
        "                        remove_flag = True\n",
        "                        break\n",
        "            if remove_flag:\n",
        "                cand_masked_pos.remove(position)\n",
        "\n",
        "        shuffle(cand_masked_pos)\n",
        "\n",
        "        # if the position remains is less than 15%, mask them all\n",
        "        if len(cand_masked_pos) < n_pred:\n",
        "            n_pred = len(cand_masked_pos)\n",
        "\n",
        "        masked_tokens, masked_pos = [], []\n",
        "        for pos in cand_masked_pos[:n_pred]:\n",
        "            for s in range(self.k_mer):\n",
        "                if pos + s < len(input_ids):\n",
        "                    masked_pos.append(pos + s)\n",
        "                    masked_tokens.append(input_ids[pos + s])\n",
        "                    input_ids[pos + s] = self.word_dict['[MASK]']  # make mask\n",
        "\n",
        "        # Zero Paddings\n",
        "        n_pad = self.max_len - len(input_ids)\n",
        "        input_ids.extend([0] * n_pad)\n",
        "        segment_ids.extend([0] * n_pad)\n",
        "\n",
        "        # Zero Padding (100% - 15%) tokens\n",
        "        if self.max_mask_count > len(masked_pos):\n",
        "            n_pad = self.max_mask_count - len(masked_pos)\n",
        "            masked_tokens.extend([0] * n_pad)\n",
        "            masked_pos.extend([0] * n_pad)\n",
        "\n",
        "        return [input_ids, segment_ids, masked_tokens, masked_pos, label]\n",
        "\n",
        "    def __init__(self, file_path, k_mer=4, max_mask_count=5, max_len=256):\n",
        "        self.k_mer = k_mer\n",
        "        self.max_mask_count = max_mask_count\n",
        "        self.max_len = max_len\n",
        "        pablo_dataset = PabloDNADataset(file_path)\n",
        "        # for removing X,R,Y letters from data\n",
        "        pablo_dataset.change_RXY2N(\"nucleotides\")\n",
        "        self.dna_nucleotides = list(pablo_dataset.df[\"nucleotides\"].values)\n",
        "        self.data_count = len(self.dna_nucleotides)\n",
        "        word_list = SampleDNAData.get_all_kmers(self.k_mer)\n",
        "\n",
        "        number_dict = dict()\n",
        "        word_dict = {'[PAD]': 0, '[CLS]': 1, '[SEP]': 2, '[MASK]': 3}\n",
        "        for i, w in enumerate(word_list):\n",
        "            word_dict[w] = i + 4\n",
        "            number_dict = {i: w for i, w in enumerate(word_dict)}\n",
        "\n",
        "        self.word_dict = word_dict\n",
        "        self.number_dict = number_dict\n",
        "\n",
        "        self.vocab_size = len(word_dict)\n",
        "        self.max_len = max_len\n",
        "\n",
        "        self.batch = []\n",
        "\n",
        "        for data_index in range(self.data_count):\n",
        "            dna_a = self.dna_nucleotides[data_index]\n",
        "\n",
        "            tokens_b_index = data_index\n",
        "            while data_index == tokens_b_index:\n",
        "                tokens_b_index = randrange(len(self.dna_nucleotides))\n",
        "            dna_b = self.dna_nucleotides[tokens_b_index]\n",
        "\n",
        "            self.batch.append(self._generate_processed_data(dna_a=dna_a, dna_b=dna_a, label=True))\n",
        "            self.batch.append(self._generate_processed_data(dna_a=dna_a, dna_b=dna_b, label=False))\n",
        "\n",
        "    def __len__(self):\n",
        "        return len(self.batch)\n",
        "\n",
        "    def __getitem__(self, idx):\n",
        "        ids = torch.Tensor(self.batch[idx][0])\n",
        "        seg = torch.Tensor(self.batch[idx][1])\n",
        "        msk_tok = torch.Tensor(self.batch[idx][2])\n",
        "        msk_pos = torch.Tensor(self.batch[idx][3])\n",
        "        label = torch.Tensor([self.batch[idx][4]])\n",
        "\n",
        "        ids, seg, msk_pos = ids.type(torch.IntTensor), seg.type(torch.IntTensor), msk_pos.type(torch.int64)\n",
        "\n",
        "        msk_tok = msk_tok.type(torch.LongTensor)\n",
        "        label = label.type(torch.LongTensor)\n",
        "\n",
        "        return ids, seg, msk_pos, msk_tok, label"
      ]
    },
    {
      "cell_type": "markdown",
      "metadata": {
        "id": "EEHIASapIyGz"
      },
      "source": [
        "# Model"
      ]
    },
    {
      "cell_type": "code",
      "execution_count": null,
      "metadata": {
        "id": "jnNFTO3xIzcO"
      },
      "outputs": [],
      "source": [
        "class Embedding(nn.Module):\n",
        "    def __init__(self, vocab_size, d_model, maxlen, n_segments, device):\n",
        "        super(Embedding, self).__init__()\n",
        "        self.tok_embed = nn.Embedding(int(vocab_size), int(d_model))  # token embedding\n",
        "        self.pos_embed = nn.Embedding(int(maxlen), int(d_model))  # position embedding\n",
        "        self.seg_embed = nn.Embedding(int(n_segments), int(d_model))  # segment(token type) embedding\n",
        "        self.norm = nn.LayerNorm(int(d_model))\n",
        "        self.device = device\n",
        "\n",
        "    def forward(self, x, seg):\n",
        "        seq_len = x.size(1)\n",
        "        pos = torch.arange(seq_len, dtype=torch.long, device=self.device)\n",
        "        pos = pos.unsqueeze(0).expand_as(x)  # (seq_len,) -> (batch_size, seq_len)\n",
        "        embedding = self.tok_embed(x) + self.pos_embed(pos) + self.seg_embed(seg)\n",
        "        return self.norm(embedding)\n",
        "\n",
        "\n",
        "class GELU(nn.Module):\n",
        "    def forward(self, x):\n",
        "        return 0.5 * x * (1 + torch.tanh(math.sqrt(2 / math.pi) * (x + 0.044715 * torch.pow(x, 3))))\n",
        "\n",
        "\n",
        "def get_attn_pad_mask(seq_q, seq_k, device):\n",
        "    batch_size, len_q = seq_q.size()\n",
        "    batch_size, len_k = seq_k.size()\n",
        "    # eq(zero) is PAD token\n",
        "    pad_attn_mask = seq_k.data.eq(0).unsqueeze(1)  # batch_size x 1 x len_k(=len_q), one is masking\n",
        "    pad_attn_mask = pad_attn_mask.to(device)\n",
        "    return pad_attn_mask.expand(batch_size, len_q, len_k)  # batch_size x len_q x len_k\n",
        "\n",
        "\n",
        "class EncoderLayer(nn.Module):\n",
        "    def __init__(self, d_model, d_k, d_v, n_heads):\n",
        "        super(EncoderLayer, self).__init__()\n",
        "        self.enc_self_attn = MultiHeadAttention(d_model, d_k, d_v, n_heads)\n",
        "        self.pos_ffn = PoswiseFeedForwardNet(d_model, d_k)\n",
        "\n",
        "    def forward(self, enc_inputs, enc_self_attn_mask):\n",
        "        enc_outputs, attn = self.enc_self_attn(enc_inputs, enc_inputs, enc_inputs, enc_self_attn_mask)  # enc_inputs to same Q,K,V\n",
        "        enc_outputs = self.pos_ffn(enc_outputs)  # enc_outputs: [batch_size x len_q x d_model]\n",
        "        return enc_outputs, attn\n",
        "\n",
        "\n",
        "class MultiHeadAttention(nn.Module):\n",
        "    def __init__(self, d_model, d_k, d_v, n_heads):\n",
        "        super(MultiHeadAttention, self).__init__()\n",
        "        self.W_Q = nn.Linear(d_model, d_k * n_heads)\n",
        "        self.W_K = nn.Linear(d_model, d_k * n_heads)\n",
        "        self.W_V = nn.Linear(d_model, d_v * n_heads)\n",
        "\n",
        "        self.d_k = d_k\n",
        "        self.d_v = d_v\n",
        "        self.n_heads = n_heads\n",
        "        self.d_model = d_model\n",
        "\n",
        "        self.linear = nn.Linear(self.n_heads * self.d_v, self.d_model)\n",
        "\n",
        "        self.layernorm = nn.LayerNorm(self.d_model)\n",
        "\n",
        "    def forward(self, Q, K, V, attn_mask):\n",
        "        # q: [batch_size x len_q x d_model], k: [batch_size x len_k x d_model], v: [batch_size x len_k x d_model]\n",
        "        residual, batch_size = Q, Q.size(0)\n",
        "        # (B, S, D) -proj-> (B, S, D) -split-> (B, S, H, W) -trans-> (B, H, S, W)\n",
        "        q_s = self.W_Q(Q).view(batch_size, -1, self.n_heads, self.d_k).transpose(1, 2)  # q_s: [batch_size x n_heads x len_q x d_k]\n",
        "        k_s = self.W_K(K).view(batch_size, -1, self.n_heads, self.d_k).transpose(1, 2)  # k_s: [batch_size x n_heads x len_k x d_k]\n",
        "        v_s = self.W_V(V).view(batch_size, -1, self.n_heads, self.d_v).transpose(1, 2)  # v_s: [batch_size x n_heads x len_k x d_v]\n",
        "\n",
        "        attn_mask = attn_mask.unsqueeze(1).repeat(1, self.n_heads, 1, 1)  # attn_mask : [batch_size x n_heads x len_q x len_k]\n",
        "\n",
        "        # context: [batch_size x n_heads x len_q x d_v], attn: [batch_size x n_heads x len_q(=len_k) x len_k(=len_q)]\n",
        "        context, attn = ScaledDotProductAttention(self.d_k)(q_s, k_s, v_s, attn_mask)\n",
        "        context = context.transpose(1, 2).contiguous().view(batch_size, -1, self.n_heads * self.d_v)  # context: [batch_size x len_q x n_heads * d_v]\n",
        "        output = self.linear(context)\n",
        "\n",
        "        return self.layernorm(output + residual), attn  # output: [batch_size x len_q x d_model]\n",
        "\n",
        "\n",
        "class PoswiseFeedForwardNet(nn.Module):\n",
        "    def __init__(self, d_model, d_ff):\n",
        "        super(PoswiseFeedForwardNet, self).__init__()\n",
        "        self.l1 = nn.Linear(d_model, d_ff)\n",
        "        self.l2 = nn.Linear(d_ff, d_model)\n",
        "\n",
        "        self.relu = GELU()\n",
        "        self.layer_norm = nn.LayerNorm(d_model)\n",
        "\n",
        "    def forward(self, inputs):\n",
        "        residual = inputs\n",
        "        output = self.l1(inputs)\n",
        "        output = self.relu(output)\n",
        "        output = self.l2(output)\n",
        "        return self.layer_norm(output + residual)\n",
        "\n",
        "\n",
        "class ScaledDotProductAttention(nn.Module):\n",
        "    def __init__(self, d_k):\n",
        "        self.d_k = d_k\n",
        "        super(ScaledDotProductAttention, self).__init__()\n",
        "\n",
        "    def forward(self, Q, K, V, attn_mask):\n",
        "        scores = torch.matmul(Q, K.transpose(-1, -2)) / np.sqrt(\n",
        "            self.d_k)  # scores : [batch_size x n_heads x len_q(=len_k) x len_k(=len_q)]\n",
        "        scores.masked_fill_(attn_mask, -1e9)  # Fills elements of self tensor with value where mask is one.\n",
        "        attn = nn.Softmax(dim=-1)(scores)\n",
        "        context = torch.matmul(attn, V)\n",
        "        return context, attn\n",
        "\n",
        "\n",
        "class BERT(nn.Module):\n",
        "    def __init__(self, vocab_size, d_model, maxlen, n_segments, n_layers, d_k, d_v, n_heads, device):\n",
        "        super(BERT, self).__init__()\n",
        "        self.embedding = Embedding(vocab_size, d_model, maxlen, n_segments, device)\n",
        "        self.layers = nn.ModuleList([EncoderLayer(d_model, d_k, d_v, n_heads) for _ in range(n_layers)])\n",
        "        self.fc = nn.Linear(d_model, d_model)\n",
        "        self.activ1 = nn.Tanh()\n",
        "        self.linear = nn.Linear(d_model, d_model)\n",
        "        self.activ2 = GELU()\n",
        "        self.norm = nn.LayerNorm(d_model)\n",
        "        self.classifier = nn.Linear(d_model, 2)\n",
        "        # decoder is shared with embedding layer\n",
        "        embed_weight = self.embedding.tok_embed.weight\n",
        "        n_vocab, n_dim = embed_weight.size()\n",
        "        self.decoder = nn.Linear(n_dim, n_vocab, bias=False)\n",
        "        self.decoder.weight = embed_weight\n",
        "        self.decoder_bias = nn.Parameter(torch.zeros(n_vocab))\n",
        "        self.device=device\n",
        "        self.to(self.device)\n",
        "\n",
        "    \n",
        "    def forward(self, input_ids, segment_ids, masked_pos):\n",
        "        output = self.embedding(input_ids, segment_ids)\n",
        "        enc_self_attn_mask = get_attn_pad_mask(input_ids, input_ids, self.device)\n",
        "        for layer in self.layers:\n",
        "            # embedding layer\n",
        "            output, enc_self_attn = layer(output, enc_self_attn_mask)\n",
        "\n",
        "        # output : [batch_size, len, d_model], attn : [batch_size, n_heads, d_mode, d_model]\n",
        "        # classifier pos/neg (it will be decided by first token(CLS))\n",
        "        h_pooled = self.activ1(self.fc(output[:, 0]))  # [batch_size, d_model]\n",
        "        logits_clsf = self.classifier(h_pooled)  # [batch_size, 2]\n",
        "\n",
        "        # classifier mask\n",
        "        masked_pos = masked_pos[:, :, None].expand(-1, -1, output.size(-1))  # [batch_size, max_pred, d_model]\n",
        "        # get masked position from final output of transformer.\n",
        "        h_masked = torch.gather(output, 1, masked_pos)  # masking position [batch_size, max_pred, d_model]\n",
        "        h_masked = self.norm(self.activ2(self.linear(h_masked)))\n",
        "        logits_lm = self.decoder(h_masked) + self.decoder_bias  # [batch_size, max_pred, n_vocab]\n",
        "\n",
        "        return logits_lm, logits_clsf, output\n",
        "\n",
        "    def get_embeddings(self, input_ids, segment_ids):\n",
        "        output = self.embedding(input_ids, segment_ids)\n",
        "        enc_self_attn_mask = get_attn_pad_mask(input_ids, input_ids, self.device)\n",
        "        for layer in self.layers:\n",
        "            # embedding layer\n",
        "            output, enc_self_attn = layer(output, enc_self_attn_mask)\n",
        "\n",
        "        return output"
      ]
    },
    {
      "cell_type": "markdown",
      "metadata": {
        "id": "WCsAwf11JJDi"
      },
      "source": [
        "# Train\n"
      ]
    },
    {
      "cell_type": "code",
      "execution_count": null,
      "metadata": {
        "id": "0qIoqgL7X3uz",
        "colab": {
          "base_uri": "https://localhost:8080/"
        },
        "outputId": "b293675d-15c1-43d6-843c-174eac8c7970"
      },
      "outputs": [
        {
          "output_type": "stream",
          "name": "stdout",
          "text": [
            "loading the dataset is started\n",
            "20000\n",
            "data is loaded and now model is loading\n"
          ]
        }
      ],
      "source": [
        "# dataloader to get a batch of data\n",
        "print(\"loading the dataset is started\")\n",
        "dataset = SampleDNAData(file_path=input_path, k_mer=4, max_mask_count=80, max_len=config[\"max_len\"])\n",
        "print(len(dataset))\n",
        "dataloader = DataLoader(dataset, batch_size=4, shuffle=False)\n",
        "# Bert model\n",
        "print(\"data is loaded and now model is loading\")\n",
        "model = BERT(dataset.vocab_size, config[\"d_model\"], dataset.max_len, 2, config[\"n_layers\"], 32, 32, config[\"n_heads\"], device=device)\n",
        "\n",
        "criterion = nn.CrossEntropyLoss()\n",
        "optimizer = optim.Adam(model.parameters(), lr=0.001)\n"
      ]
    },
    {
      "cell_type": "code",
      "execution_count": null,
      "metadata": {
        "colab": {
          "base_uri": "https://localhost:8080/",
          "height": 71
        },
        "id": "9zNxvJ2y0yNI",
        "outputId": "04b7780a-cb8e-46a3-9250-444983544702"
      },
      "outputs": [
        {
          "data": {
            "application/vnd.google.colaboratory.intrinsic+json": {
              "type": "string"
            },
            "text/plain": [
              "' \\nIf you lost your connection and want to continue the training process, \\nuncomment this part, load your last model, optimizer, and loss, \\nchoose the epoch you \\nwant to continue from\\n'"
            ]
          },
          "execution_count": 17,
          "metadata": {},
          "output_type": "execute_result"
        }
      ],
      "source": [
        "''' \n",
        "If you lost your connection and want to continue the training process, \n",
        "uncomment this part, load your last model, optimizer, and loss, \n",
        "choose the epoch you \n",
        "want to continue from\n",
        "'''\n",
        "# continue_epoch = 100\n",
        "# model.load_state_dict(torch.load(saving_path + f'/model_{continue_epoch}.pth'))\n",
        "# optimizer.load_state_dict(torch.load(saving_path + f\"/optimizer_{continue_epoch}.pth\"))\n",
        "\n",
        "# a_file = open(saving_path + \"/loss.pkl\", \"rb\")\n",
        "# epoch_loss_list = pickle.load(a_file)"
      ]
    },
    {
      "cell_type": "code",
      "execution_count": null,
      "metadata": {
        "colab": {
          "base_uri": "https://localhost:8080/"
        },
        "id": "MLAbcratJLHT",
        "outputId": "15297f4d-c0dc-42ab-89a5-558da784b111"
      },
      "outputs": [
        {
          "output_type": "stream",
          "name": "stdout",
          "text": [
            "Training is started\n",
            "epoch 0: Loss is 27796.743503570557\n",
            "epoch 1: Loss is 24463.785129070282\n"
          ]
        }
      ],
      "source": [
        "# strat training\n",
        "print(\"Training is started\")\n",
        "for epoch in range(continue_epoch, training_epoch + 1):\n",
        "    start = datetime.now()\n",
        "    epoch_loss = 0\n",
        "    for ids, seg, msk_pos, masked_tokens, is_pos in dataloader:\n",
        "        ids = ids.to(device)\n",
        "        seg = seg.to(device)\n",
        "        msk_pos = msk_pos.to(device)\n",
        "        masked_tokens = masked_tokens.to(device)\n",
        "        is_pos = is_pos.to(device)\n",
        "\n",
        "        optimizer.zero_grad()\n",
        "        logits_lm, logits_clsf, outputs= model(ids, seg, msk_pos)\n",
        "\n",
        "        loss_lm = criterion(logits_lm.transpose(1, 2), masked_tokens)  # for masked LM\n",
        "        loss_lm = (loss_lm.float()).mean()\n",
        "        loss_clsf = criterion(logits_clsf, torch.squeeze(is_pos))  # for sentence classification\n",
        "        loss = loss_lm + loss_clsf\n",
        "\n",
        "        epoch_loss += loss.item()\n",
        "\n",
        "        loss.backward()\n",
        "        optimizer.step()\n",
        "    \n",
        "    epoch_loss_list.append(epoch_loss)\n",
        "\n",
        "    print(f\"epoch {epoch}: Loss is {epoch_loss}, Consumption Time is {datetime.now() - start}\")\n",
        "\n",
        "    # every 50 epoch save the checkpoints and save the loss in a list\n",
        "    if epoch % 50 == 0:\n",
        "        torch.save(model.state_dict(), saving_path + \"/model_\" + str(epoch) +'.pth')\n",
        "        torch.save(optimizer.state_dict(), saving_path + \"/optimizer_\" + str(epoch) +'.pth')\n",
        "\n",
        "        a_file = open(saving_path + \"/loss.pkl\", \"wb\")\n",
        "        pickle.dump(epoch_loss_list, a_file)\n",
        "        a_file.close()\n"
      ]
    },
    {
      "cell_type": "markdown",
      "metadata": {
        "id": "TmfJg62-Ahp1"
      },
      "source": [
        "## Plot the loss after training"
      ]
    },
    {
      "cell_type": "code",
      "execution_count": null,
      "metadata": {
        "colab": {
          "base_uri": "https://localhost:8080/",
          "height": 265
        },
        "id": "K4v-JAdIWzXg",
        "outputId": "dc412d50-6004-4ae9-be66-f4cd860e9116"
      },
      "outputs": [
        {
          "data": {
            "image/png": "[encoded data removed]",
            "text/plain": [
              "<Figure size 432x288 with 1 Axes>"
            ]
          },
          "metadata": {},
          "output_type": "display_data"
        }
      ],
      "source": [
        "plt.plot(epoch_loss_list, label =\"Epoch Loss\")\n",
        "plt.legend(loc='upper right')\n",
        "plt.savefig(f'{saving_path}/loss_per_epoch.png')\n",
        "plt.show()"
      ]
    },
    {
      "cell_type": "markdown",
      "metadata": {
        "id": "mTkNbm4SA5f5"
      },
      "source": [
        "# Test"
      ]
    },
    {
      "cell_type": "code",
      "execution_count": null,
      "metadata": {
        "colab": {
          "base_uri": "https://localhost:8080/"
        },
        "id": "Qx2MLPjgu9c2",
        "outputId": "30caae7d-57f2-48cf-87a4-6c9d05a9e75b"
      },
      "outputs": [
        {
          "name": "stdout",
          "output_type": "stream",
          "text": [
            "Looking in indexes: https://pypi.org/simple, https://us-python.pkg.dev/colab-wheels/public/simple/\n",
            "Collecting umap-learn\n",
            "  Downloading umap-learn-0.5.3.tar.gz (88 kB)\n",
            "\u001b[2K     \u001b[90m━━━━━━━━━━━━━━━━━━━━━━━━━━━━━━━━━━━━━━━━\u001b[0m \u001b[32m88.2/88.2 KB\u001b[0m \u001b[31m10.3 MB/s\u001b[0m eta \u001b[36m0:00:00\u001b[0m\n",
            "\u001b[?25h  Preparing metadata (setup.py) ... \u001b[?25l\u001b[?25hdone\n",
            "Requirement already satisfied: numpy>=1.17 in /usr/local/lib/python3.9/dist-packages (from umap-learn) (1.22.4)\n",
            "Requirement already satisfied: scikit-learn>=0.22 in /usr/local/lib/python3.9/dist-packages (from umap-learn) (1.2.2)\n",
            "Requirement already satisfied: scipy>=1.0 in /usr/local/lib/python3.9/dist-packages (from umap-learn) (1.10.1)\n",
            "Requirement already satisfied: numba>=0.49 in /usr/local/lib/python3.9/dist-packages (from umap-learn) (0.56.4)\n",
            "Collecting pynndescent>=0.5\n",
            "  Downloading pynndescent-0.5.8.tar.gz (1.1 MB)\n",
            "\u001b[2K     \u001b[90m━━━━━━━━━━━━━━━━━━━━━━━━━━━━━━━━━━━━━━━━\u001b[0m \u001b[32m1.1/1.1 MB\u001b[0m \u001b[31m62.4 MB/s\u001b[0m eta \u001b[36m0:00:00\u001b[0m\n",
            "\u001b[?25h  Preparing metadata (setup.py) ... \u001b[?25l\u001b[?25hdone\n",
            "Requirement already satisfied: tqdm in /usr/local/lib/python3.9/dist-packages (from umap-learn) (4.65.0)\n",
            "Requirement already satisfied: llvmlite<0.40,>=0.39.0dev0 in /usr/local/lib/python3.9/dist-packages (from numba>=0.49->umap-learn) (0.39.1)\n",
            "Requirement already satisfied: setuptools in /usr/local/lib/python3.9/dist-packages (from numba>=0.49->umap-learn) (63.4.3)\n",
            "Requirement already satisfied: joblib>=0.11 in /usr/local/lib/python3.9/dist-packages (from pynndescent>=0.5->umap-learn) (1.1.1)\n",
            "Requirement already satisfied: threadpoolctl>=2.0.0 in /usr/local/lib/python3.9/dist-packages (from scikit-learn>=0.22->umap-learn) (3.1.0)\n",
            "Building wheels for collected packages: umap-learn, pynndescent\n",
            "  Building wheel for umap-learn (setup.py) ... \u001b[?25l\u001b[?25hdone\n",
            "  Created wheel for umap-learn: filename=umap_learn-0.5.3-py3-none-any.whl size=82827 sha256=8f4c9346e4070b8541aafa520ddad8ab2038c293980e11841e1ef16cc53f581d\n",
            "  Stored in directory: /root/.cache/pip/wheels/f4/3e/1c/596d0a463d17475af648688443fa4846fef624d1390339e7e9\n",
            "  Building wheel for pynndescent (setup.py) ... \u001b[?25l\u001b[?25hdone\n",
            "  Created wheel for pynndescent: filename=pynndescent-0.5.8-py3-none-any.whl size=55510 sha256=8ba3b56b63a69b2419fcd24693b3ff418c3defbed97d9ecbf892a5d56e6ae42b\n",
            "  Stored in directory: /root/.cache/pip/wheels/b9/89/cc/59ab91ef5b21dc2ab3635528d7d227f49dfc9169905dcb959d\n",
            "Successfully built umap-learn pynndescent\n",
            "Installing collected packages: pynndescent, umap-learn\n",
            "Successfully installed pynndescent-0.5.8 umap-learn-0.5.3\n"
          ]
        }
      ],
      "source": [
        "!pip install umap-learn"
      ]
    },
    {
      "cell_type": "code",
      "execution_count": null,
      "metadata": {
        "id": "QxuQbqskaDkJ"
      },
      "outputs": [],
      "source": [
        "class test_DNA_Data(Dataset):\n",
        "    \"\"\"Barcode Dataset\"\"\"\n",
        "\n",
        "    def __init__(self, file_path, k_mer=4, max_len=512):\n",
        "        pablo_dataset = PabloDNADataset(file_path)\n",
        "        # for removing X,R,Y letters from data\n",
        "        pablo_dataset.change_RXY2N(\"nucleotides\")\n",
        "        self.dna_nucleotides = list(pablo_dataset.df[\"nucleotides\"].values)\n",
        "        self.species = list(pablo_dataset.df[\"species_name\"].values)\n",
        "        word_list = SampleDNAData.get_all_kmers(k_mer)\n",
        "\n",
        "        word_dict = {'[PAD]': 0, '[CLS]': 1, '[SEP]': 2, '[MASK]': 3}\n",
        "        for i, w in enumerate(word_list):\n",
        "            word_dict[w] = i + 4\n",
        "            number_dict = {i: w for i, w in enumerate(word_dict)}  # TODO: try move this out from the loop.\n",
        "\n",
        "        \n",
        "        self.word_dict = word_dict\n",
        "        self.number_dict = number_dict\n",
        "        self.vocab_size = len(word_dict)\n",
        "        self.max_len = max_len\n",
        "\n",
        "        self.IDS = []\n",
        "        self.SEGMENTS = []\n",
        "        self.SPECIES = []\n",
        "\n",
        "        for seq, species in zip(self.dna_nucleotides, self.species):\n",
        "          if len(seq) > (self.max_len - 2):\n",
        "              seq = seq[:self.max_len - 2]\n",
        "          tokens = tokenizer(seq, word_dict, 4, stride=1)\n",
        "          input_ids = [word_dict['[CLS]']] + tokens + [word_dict['[SEP]']]\n",
        "          segment_ids = [0] * (1 + len(tokens) ) + [1] * (1)\n",
        "          masked_tokens, masked_pos = [], [] # No mask for testing\n",
        "            \n",
        "          # Zero Paddings\n",
        "          n_pad = max_len - len(input_ids)\n",
        "          if n_pad > 0:\n",
        "            input_ids.extend([0] * n_pad)\n",
        "            segment_ids.extend([0] * n_pad)\n",
        "\n",
        "          self.IDS.append(input_ids)\n",
        "          self.SEGMENTS.append(segment_ids)\n",
        "          self.SPECIES.append(species)\n",
        "\n",
        "    def __len__(self):\n",
        "        return len(self.dna_nucleotides)\n",
        "\n",
        "    def __getitem__(self, idx):\n",
        "        ids = torch.Tensor(self.IDS[idx])\n",
        "        seg = torch.Tensor(self.SEGMENTS[idx])\n",
        "        # msk_pos = torch.Tensor([])\n",
        "        label = self.SPECIES[idx]\n",
        "\n",
        "        ids, seg = ids.type(torch.IntTensor), seg.type(torch.IntTensor) # [msk_pos.type(torch.int64)]\n",
        "\n",
        "        return  {'input':[ids, seg], 'label':label}\n",
        "\n",
        "  \n",
        "test_path = f\"{bioscan_folder_path}/unseen.tsv\"\n",
        "test_dataset = test_DNA_Data(test_path, max_len=config[\"max_len\"])\n",
        "test_dataloader = DataLoader(test_dataset, batch_size=64, shuffle=True)"
      ]
    },
    {
      "cell_type": "code",
      "execution_count": null,
      "metadata": {
        "colab": {
          "base_uri": "https://localhost:8080/"
        },
        "id": "GomG3YnPBJtZ",
        "outputId": "4e793721-0c1a-4904-9264-53f554315211"
      },
      "outputs": [
        {
          "data": {
            "text/plain": [
              "<All keys matched successfully>"
            ]
          },
          "execution_count": 36,
          "metadata": {},
          "output_type": "execute_result"
        }
      ],
      "source": [
        "# DNABERT configuration\n",
        "# config = {\n",
        "#     \"d_model\": 768,\n",
        "#     \"n_heads\": 12,\n",
        "#     \"n_layers\": 12,\n",
        "#     \"max_len\":512\n",
        "# }\n",
        "\n",
        "# model = BERT(len(test_dataset.word_dict), config[\"d_model\"], config['max_len'], 2, config[\"n_layers\"], 32, 32, config[\"n_heads\"])\n",
        "\n",
        "# # Load the last model available from training\n",
        "\n",
        "last_epoch = 1000\n",
        "\n",
        "model.load_state_dict(torch.load(saving_path + f'/model_{last_epoch}.pth'))"
      ]
    },
    {
      "cell_type": "markdown",
      "metadata": {
        "id": "9YRFf7MABOYm"
      },
      "source": [
        "## Embedding [CLS]"
      ]
    },
    {
      "cell_type": "code",
      "execution_count": null,
      "metadata": {
        "colab": {
          "base_uri": "https://localhost:8080/"
        },
        "id": "V84z_vmmBRJt",
        "outputId": "f1a540fd-9bb2-47d0-e56b-b6c2b1c66f1f"
      },
      "outputs": [
        {
          "name": "stdout",
          "output_type": "stream",
          "text": [
            "22770\n"
          ]
        }
      ],
      "source": [
        "# This is not the most efficient way to do this - We should have a batch and\n",
        "# a dataloader for testing. Sorry for now :( [Niousha added test dataloader ^_^]\n",
        "from tqdm import tqdm\n",
        "\n",
        "\n",
        "data_embeddings = []\n",
        "data_labels = []\n",
        "\n",
        "for i_batch, sample_batched in enumerate(test_dataloader):\n",
        "  ids, seg = sample_batched['input']\n",
        "  label_tensor = sample_batched['label']\n",
        "  ids = ids.to(device)\n",
        "  seg = seg.to(device)\n",
        "  \n",
        "  with torch.no_grad():\n",
        "    out = model.get_embeddings(ids, seg)\n",
        "    \n",
        "    cls_embeddings = out[:,0,:]\n",
        "\n",
        "    for i in tqdm(range(cls_embeddings.shape[0])):\n",
        "      data_embeddings.append(cls_embeddings[i].cpu().numpy())\n",
        "      data_labels.append(label_tensor[i])\n",
        "    # print(cls_embeddings.shape)\n",
        "    # print(label_tensor)\n",
        "    # break\n",
        "    # z1 = torch.squeeze(torch.mean(out[-1], 0, False)).cpu().numpy()\n",
        "    # z2 = out[-1][:, 0].cpu().numpy()\n",
        "\n",
        "    # embedding.append(z1)  #GAP to compute the hidden representations\n",
        "    # CLS_embedding.append(z2)\n",
        "\n",
        "  \n",
        "\n",
        "print(len(data_embeddings))\n",
        "len(test_dataset)"
      ]
    },
    {
      "cell_type": "code",
      "execution_count": null,
      "metadata": {
        "colab": {
          "base_uri": "https://localhost:8080/",
          "height": 331
        },
        "id": "sbilKLiVBUJm",
        "outputId": "45a31aa6-93c5-444c-ecb4-008c42ecef9e"
      },
      "outputs": [
        {
          "name": "stdout",
          "output_type": "stream",
          "text": [
            "(20000, 768)\n",
            "(20000, 2)\n"
          ]
        },
        {
          "data": {
            "image/png": "[encoded data removed]",
            "text/plain": [
              "<Figure size 432x288 with 1 Axes>"
            ]
          },
          "metadata": {},
          "output_type": "display_data"
        }
      ],
      "source": [
        "import umap\n",
        "\n",
        "n_samples = 20000\n",
        "\n",
        "latent = np.array(data_embeddings)[:n_samples]\n",
        "print(latent.shape)\n",
        "\n",
        "unique_labels = list(np.unique(data_labels[:n_samples]))\n",
        "# print(unique_labels)\n",
        "# print(len(unique_labels))\n",
        "# \n",
        "\n",
        "y_true = np.array(list(map(lambda x: unique_labels.index(x), data_labels[:n_samples])))\n",
        "\n",
        "\n",
        "fig, ax = plt.subplots(nrows=1, ncols=1) \n",
        "ax.set_title(\"Representation of the Latent Space\")\n",
        "ax.set_xlabel(\"UMAP 1\")\n",
        "ax.set_ylabel(\"UMAP 2\")\n",
        "\n",
        "_embedding = umap.UMAP(random_state=42).fit_transform(latent)\n",
        "print(_embedding.shape)\n",
        "\n",
        "ax.scatter(_embedding[:, 0],\n",
        "           _embedding[:, 1],\n",
        "           c=y_true,\n",
        "           s=1,\n",
        "           cmap='Spectral')\n",
        "plt.show()\n"
      ]
    },
    {
      "cell_type": "code",
      "execution_count": null,
      "metadata": {
        "id": "4NBdrPTfsxqh"
      },
      "outputs": [],
      "source": [
        "# unique_labels.index(data_labels[20000])"
      ]
    },
    {
      "cell_type": "code",
      "execution_count": null,
      "metadata": {
        "colab": {
          "base_uri": "https://localhost:8080/"
        },
        "id": "Ee4jt9pfBX_b",
        "outputId": "711ed137-531d-4a59-b8bb-26d597a0bb47"
      },
      "outputs": [
        {
          "name": "stdout",
          "output_type": "stream",
          "text": [
            "[0.6896, 0.01605, 0.07855]\n",
            "Best Metric:  manhattan Accuracy:  0.6896\n"
          ]
        }
      ],
      "source": [
        "## Histogram of Nearest Neighbors\n",
        "from sklearn.neighbors import NearestNeighbors\n",
        "\n",
        "\n",
        "metrics = ['manhattan', 'cosine', 'minkowski']\n",
        "scores = []\n",
        "neighbour_size = 1\n",
        "gt = y_true\n",
        "for metric in metrics:\n",
        "    nbrs = NearestNeighbors(n_neighbors=neighbour_size+1, metric=metric).fit(latent)\n",
        "    _, neighbour_indices = nbrs.kneighbors(latent)\n",
        "    neighbour_indices = neighbour_indices.astype(np.int32)[:,1:]\n",
        "    \n",
        "    y_neighbors = gt[neighbour_indices]\n",
        "\n",
        "    y_mode = np.apply_along_axis(lambda x: np.bincount(x).argmax(), axis=1, arr=y_neighbors)\n",
        "    scores.append(np.sum(y_mode == gt)/n_samples)\n",
        "\n",
        "print(scores)\n",
        "print(\"Best Metric: \", metrics[scores.index(max(scores))], \"Accuracy: \", max(scores))\n",
        "best_metric = metrics[scores.index(max(scores))]"
      ]
    },
    {
      "cell_type": "markdown",
      "metadata": {
        "id": "j_PusR46Bfab"
      },
      "source": [
        "## Embedding [GAP]"
      ]
    },
    {
      "cell_type": "code",
      "execution_count": null,
      "metadata": {
        "id": "-E87yQNABkgN"
      },
      "outputs": [],
      "source": [
        "class BART():\n",
        "  def __init__(self, x,y):\n",
        "    self.x = x\n",
        "    self.y = y\n",
        "  \n",
        "  def sum(self, z):\n",
        "    out = z + self.x + self.y\n",
        "    return out \n",
        "\n",
        "quesito = BART(2,4)\n",
        "print(quesito.sum(10))\n",
        "\n",
        "class CLS_BART(BART):\n",
        "    def __init__(self, x, y):\n",
        "        super(CLS_BART, self).__init__(x,y)\n",
        "    \n",
        "    def sum(self, z):\n",
        "      out = z + self.x + self.y\n",
        "      return out, z \n",
        "\n",
        "quesito = CLS_BART(2,4)\n",
        "print(quesito.sum(10))\n",
        "\n",
        "\n",
        "\n",
        "class BERT(nn.Module):\n",
        "    def __init__(self, vocab_size, d_model, maxlen, n_segments, n_layers, d_k, d_v, n_heads, device):\n",
        "        super(BERT, self).__init__(vocab_size, d_model, maxlen, n_segments, n_layers, d_k, d_v, n_heads, device)\n",
        "\n",
        "    def forward(self, input_ids, segment_ids, masked_pos):\n",
        "        output = self.embedding(input_ids, segment_ids)\n",
        "        enc_self_attn_mask = get_attn_pad_mask(input_ids, input_ids, self.device)\n",
        "        for layer in self.layers:\n",
        "            # embedding layer\n",
        "            output, enc_self_attn = layer(output, enc_self_attn_mask)\n",
        "\n",
        "        # output : [batch_size, len, d_model], attn : [batch_size, n_heads, d_mode, d_model]\n",
        "        # classifier pos/neg (it will be decided by first token(CLS))\n",
        "        h_pooled = self.activ1(self.fc(output[:, 0]))  # [batch_size, d_model]\n",
        "        \n",
        "        \n",
        "        \n",
        "        logits_clsf = self.classifier(h_pooled)  # [batch_size, 2]\n",
        "\n",
        "        # classifier mask\n",
        "        masked_pos = masked_pos[:, :, None].expand(-1, -1, output.size(-1))  # [batch_size, max_pred, d_model]\n",
        "        # get masked position from final output of transformer.\n",
        "        h_masked = torch.gather(output, 1, masked_pos)  # masking position [batch_size, max_pred, d_model]\n",
        "        h_masked = self.norm(self.activ2(self.linear(h_masked)))\n",
        "        logits_lm = self.decoder(h_masked) + self.decoder_bias  # [batch_size, max_pred, n_vocab]\n",
        "\n",
        "        return logits_lm, logits_clsf, output"
      ]
    },
    {
      "cell_type": "markdown",
      "metadata": {
        "id": "A0Qg-9f22ffn"
      },
      "source": [
        "## Embedding [MAP]"
      ]
    }
  ],
  "metadata": {
    "accelerator": "GPU",
    "colab": {
      "machine_shape": "hm",
      "provenance": [],
      "toc_visible": true
    },
    "gpuClass": "standard",
    "kernelspec": {
      "display_name": "Python 3",
      "name": "python3"
    },
    "language_info": {
      "name": "python"
    }
  },
  "nbformat": 4,
  "nbformat_minor": 0
}
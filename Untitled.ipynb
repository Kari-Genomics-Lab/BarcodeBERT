{
 "cells": [
  {
   "cell_type": "code",
   "execution_count": 6,
   "id": "dab93f34-3689-4198-bf7d-c410fb744079",
   "metadata": {},
   "outputs": [
    {
     "name": "stdout",
     "output_type": "stream",
     "text": [
      "Using device: cuda\n"
     ]
    }
   ],
   "source": [
    "import sys\n",
    "sys.path.append('.')\n",
    "from baselines.datasets import representations_from_file\n",
    "from baselines.io import load_baseline_model"
   ]
  },
  {
   "cell_type": "code",
   "execution_count": 9,
   "id": "b3cf283d-dd10-4ef1-880a-730b6317a29d",
   "metadata": {},
   "outputs": [
    {
     "data": {
      "text/plain": [
       "BertModel(\n",
       "  (embeddings): BertEmbeddings(\n",
       "    (word_embeddings): Embedding(4096, 768, padding_idx=0)\n",
       "    (token_type_embeddings): Embedding(2, 768)\n",
       "    (LayerNorm): LayerNorm((768,), eps=1e-12, elementwise_affine=True)\n",
       "    (dropout): Dropout(p=0.1, inplace=False)\n",
       "  )\n",
       "  (encoder): BertEncoder(\n",
       "    (layer): ModuleList(\n",
       "      (0-11): 12 x BertLayer(\n",
       "        (attention): BertUnpadAttention(\n",
       "          (self): BertUnpadSelfAttention(\n",
       "            (dropout): Dropout(p=0.0, inplace=False)\n",
       "            (Wqkv): Linear(in_features=768, out_features=2304, bias=True)\n",
       "          )\n",
       "          (output): BertSelfOutput(\n",
       "            (dense): Linear(in_features=768, out_features=768, bias=True)\n",
       "            (LayerNorm): LayerNorm((768,), eps=1e-12, elementwise_affine=True)\n",
       "            (dropout): Dropout(p=0.1, inplace=False)\n",
       "          )\n",
       "        )\n",
       "        (mlp): BertGatedLinearUnitMLP(\n",
       "          (gated_layers): Linear(in_features=768, out_features=6144, bias=False)\n",
       "          (act): GELU(approximate='none')\n",
       "          (wo): Linear(in_features=3072, out_features=768, bias=True)\n",
       "          (dropout): Dropout(p=0.1, inplace=False)\n",
       "          (layernorm): LayerNorm((768,), eps=1e-12, elementwise_affine=True)\n",
       "        )\n",
       "      )\n",
       "    )\n",
       "  )\n",
       "  (pooler): BertPooler(\n",
       "    (dense): Linear(in_features=768, out_features=768, bias=True)\n",
       "    (activation): Tanh()\n",
       "  )\n",
       ")"
      ]
     },
     "execution_count": 9,
     "metadata": {},
     "output_type": "execute_result"
    }
   ],
   "source": [
    "model_name = \"DNABERT-2\" #DNABERT-2, #DNABERT-S, #NT, #HyenaDNA, #BarcodeBERT\n",
    "\n",
    "embedder = load_baseline_model(model_name)\n",
    "embedder.name = model_name\n",
    "\n",
    "# Ensure model is in eval mode\n",
    "embedder.model.eval()"
   ]
  },
  {
   "cell_type": "code",
   "execution_count": null,
   "id": "72ac9f65-6362-49f4-8c29-09248da70593",
   "metadata": {},
   "outputs": [
    {
     "name": "stdout",
     "output_type": "stream",
     "text": [
      "Using device: cuda\n",
      "Calculating embeddings for DNABERT-2\n",
      "embeddings/DNABERT-2/train_finbol-gbol_nt.pickle\n"
     ]
    },
    {
     "data": {
      "application/vnd.jupyter.widget-view+json": {
       "model_id": "44139753317440b48f1f9bc423523157",
       "version_major": 2,
       "version_minor": 0
      },
      "text/plain": [
       "0it [00:00, ?it/s]"
      ]
     },
     "metadata": {},
     "output_type": "display_data"
    }
   ],
   "source": [
    "filename = \"/h/pmillana/projects/finbol_gbol_data/train_finbol-gbol_nt.fasta\"\n",
    "embeddings = representations_from_file(filename,embedder)"
   ]
  },
  {
   "cell_type": "code",
   "execution_count": null,
   "id": "2952263c-4c73-44e4-a096-c38b3ec98ff5",
   "metadata": {},
   "outputs": [],
   "source": []
  }
 ],
 "metadata": {
  "kernelspec": {
   "display_name": "Python 3 (ipykernel)",
   "language": "python",
   "name": "python3"
  },
  "language_info": {
   "codemirror_mode": {
    "name": "ipython",
    "version": 3
   },
   "file_extension": ".py",
   "mimetype": "text/x-python",
   "name": "python",
   "nbconvert_exporter": "python",
   "pygments_lexer": "ipython3",
   "version": "3.11.9"
  }
 },
 "nbformat": 4,
 "nbformat_minor": 5
}
